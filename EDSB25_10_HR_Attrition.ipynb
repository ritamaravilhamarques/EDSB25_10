{
 "cells": [
  {
   "cell_type": "markdown",
   "id": "e93443fb",
   "metadata": {},
   "source": [
    "# HR Attrition\n",
    "Group 10:\n",
    "- Filipe Brandão Carmo\n",
    "- João Silva\n",
    "- Rita Marques\n",
    "- Sara Henriques\n",
    "\n",
    "The objective of this capstone project is to synthesize and apply the diverse skills and knowledge you have acquired throughout your coursework. You will\n",
    "develop an end-to-end data science solution focused on predicting employee attrition. The project is designed to challenge you to integrate your\n",
    "understanding of data exploration, feature engineering, machine learning, and model deployment. Additionally, you will refine your ability to communicate\n",
    "complex results through a polished, professional presentation."
   ]
  },
  {
   "cell_type": "markdown",
   "id": "d6464420",
   "metadata": {},
   "source": [
    "GitHub Repository: Maintain a well-organized GitHub repository containing all project files, including code, data, documentation, and the slide\n",
    "deck. Ensure the repository is structured and commented to be understandable by others.\n",
    "\n",
    "Deliverables:\n",
    "1. Jupyter Notebook/Python Scripts: Detailed documentation of your entire\n",
    "workflow, from EDA to modeling and deployment.\n",
    "2. Final Presentation: A polished, professional presentation with\n",
    "accompanying slides, ready for a 10-minute delivery.\n",
    "3. Backup Slides: Additional slides to address potential questions or provide\n",
    "further details.\n",
    "4. GitHub Repository: A complete and organized repository with all relevant\n",
    "files and documentation."
   ]
  },
  {
   "cell_type": "markdown",
   "id": "dbc54fc8",
   "metadata": {},
   "source": [
    "# 1. Understanding the Business Problem"
   ]
  },
  {
   "cell_type": "markdown",
   "id": "045511be",
   "metadata": {},
   "source": [
    "High turnover rates are costly and disruptive, making it essential for HR to anticipate which employees are likely to leave. We are tasked with assisting a multinational consultancy firm in predicting employee attrition.\n",
    "\n",
    "The primary goal is to predict whether an employee will leave the company, based on the data provided. Secondary goals include identifying key factors influencing attrition and recommending strategies to retain valuable employees.\n",
    "\n",
    "The HR department and executive management will be the primary consumers of your insights, and they expect actionable recommendations based on your analysis."
   ]
  },
  {
   "cell_type": "code",
   "execution_count": null,
   "id": "99ebba18",
   "metadata": {},
   "outputs": [],
   "source": []
  },
  {
   "cell_type": "markdown",
   "id": "198bbce5",
   "metadata": {},
   "source": [
    "# 2. Data Collection and Initial Processing"
   ]
  },
  {
   "cell_type": "markdown",
   "id": "ada9e9a9",
   "metadata": {},
   "source": [
    "The dataset provided (HR_DS.csv) contains various attributes related to employee demographics, job satisfaction, work experience, and compensation.\n",
    "\n",
    "Explore the data types, distribution, and completeness.\n",
    "Identify any missing values or inconsistencies that need to be addressed.´\n",
    "\n",
    "Preprocessing:\n",
    "- Handle missing data through appropriate imputation techniques.\n",
    "- Encode categorical variables using methods such as one-hot encoding or label encoding, considering the impact on the model.\n",
    "- Standardize or normalize numerical features if necessary, based on the algorithms you plan to use."
   ]
  },
  {
   "cell_type": "markdown",
   "id": "b008f1e2",
   "metadata": {},
   "source": [
    "Technologies to be used and Python packages to import:\n",
    "- Programming & Data Analysis: Python (Pandas, NumPy, Scikit-learn, XGBoost, TensorFlow/PyTorch, etc.)\n",
    "- Development Environment: VS Code\n",
    "- Version Control: Git/GitHub\n",
    "- Model Deployment: Hugging Face Spaces (Optional)\n",
    "- Data Visualization: Power BI, Plotly, Matplotlib, Seaborn\n",
    "- Model Interpretation: SHAP, LIME"
   ]
  },
  {
   "cell_type": "code",
   "execution_count": 2,
   "id": "b2e0c628",
   "metadata": {},
   "outputs": [],
   "source": [
    "# imports\n",
    "import numpy as np\n",
    "import pandas as pd\n",
    "import seaborn as sns"
   ]
  },
  {
   "cell_type": "code",
   "execution_count": 11,
   "id": "62f9996c",
   "metadata": {},
   "outputs": [
    {
     "name": "stdout",
     "output_type": "stream",
     "text": [
      "The table has the following format:  (1470, 35)\n",
      "<class 'pandas.core.frame.DataFrame'>\n",
      "RangeIndex: 1470 entries, 0 to 1469\n",
      "Data columns (total 35 columns):\n",
      " #   Column                    Non-Null Count  Dtype \n",
      "---  ------                    --------------  ----- \n",
      " 0   Age                       1470 non-null   int64 \n",
      " 1   Attrition                 1470 non-null   object\n",
      " 2   BusinessTravel            1470 non-null   object\n",
      " 3   DailyRate                 1470 non-null   int64 \n",
      " 4   Department                1470 non-null   object\n",
      " 5   DistanceFromHome          1470 non-null   int64 \n",
      " 6   Education                 1470 non-null   int64 \n",
      " 7   EducationField            1470 non-null   object\n",
      " 8   EmployeeCount             1470 non-null   int64 \n",
      " 9   EmployeeNumber            1470 non-null   int64 \n",
      " 10  EnvironmentSatisfaction   1470 non-null   int64 \n",
      " 11  Gender                    1470 non-null   object\n",
      " 12  HourlyRate                1470 non-null   int64 \n",
      " 13  JobInvolvement            1470 non-null   int64 \n",
      " 14  JobLevel                  1470 non-null   int64 \n",
      " 15  JobRole                   1470 non-null   object\n",
      " 16  JobSatisfaction           1470 non-null   int64 \n",
      " 17  MaritalStatus             1470 non-null   object\n",
      " 18  MonthlyIncome             1470 non-null   int64 \n",
      " 19  MonthlyRate               1470 non-null   int64 \n",
      " 20  NumCompaniesWorked        1470 non-null   int64 \n",
      " 21  Over18                    1470 non-null   object\n",
      " 22  OverTime                  1470 non-null   object\n",
      " 23  PercentSalaryHike         1470 non-null   int64 \n",
      " 24  PerformanceRating         1470 non-null   int64 \n",
      " 25  RelationshipSatisfaction  1470 non-null   int64 \n",
      " 26  StandardHours             1470 non-null   int64 \n",
      " 27  StockOptionLevel          1470 non-null   int64 \n",
      " 28  TotalWorkingYears         1470 non-null   int64 \n",
      " 29  TrainingTimesLastYear     1470 non-null   int64 \n",
      " 30  WorkLifeBalance           1470 non-null   int64 \n",
      " 31  YearsAtCompany            1470 non-null   int64 \n",
      " 32  YearsInCurrentRole        1470 non-null   int64 \n",
      " 33  YearsSinceLastPromotion   1470 non-null   int64 \n",
      " 34  YearsWithCurrManager      1470 non-null   int64 \n",
      "dtypes: int64(26), object(9)\n",
      "memory usage: 402.1+ KB\n",
      "None\n"
     ]
    }
   ],
   "source": [
    "# import data here and perform basic .shape() .info()\n",
    "HR = pd.read_csv('HR_Attrition_Dataset.csv')\n",
    "print(f\"The table has the following format: \", HR.shape)\n",
    "print(HR.info(max_cols=35))"
   ]
  },
  {
   "cell_type": "markdown",
   "id": "7837bffe",
   "metadata": {},
   "source": [
    "# 3. Exploratory Data Analysis"
   ]
  },
  {
   "cell_type": "markdown",
   "id": "28daf0d2",
   "metadata": {},
   "source": [
    "- Univariate Analysis: Conduct a thorough analysis of individual variables to understand their distributions and detect any anomalies or patterns.\n",
    "- Bivariate and Multivariate Analysis: Examine the relationships between key features, particularly how they correlate with the target variable (Attrition). Utilize heatmaps, pair plots, and correlation matrices to uncover potential multicollinearity issues.\n",
    "- Visualization: Develop insightful visualizations to communicate findings effectively. Consider using tools like Seaborn or Plotly to create interactive or\n",
    "complex visualizations.\n",
    "- Feature Engineering: Assess feature importance using techniques like feature selection or model-based importance scoring (e.g., Random Forest feature importances)."
   ]
  },
  {
   "cell_type": "code",
   "execution_count": null,
   "id": "eeff4eb6",
   "metadata": {},
   "outputs": [],
   "source": [
    "# perform .describe() and histograms/variable for univariate data analysis"
   ]
  },
  {
   "cell_type": "code",
   "execution_count": null,
   "id": "0af5cf5e",
   "metadata": {},
   "outputs": [],
   "source": [
    "# Multivariate Analysis: correlation heatmap .corr()"
   ]
  },
  {
   "cell_type": "markdown",
   "id": "cadfd609",
   "metadata": {},
   "source": [
    "# 4. Predictive Modelling"
   ]
  },
  {
   "cell_type": "markdown",
   "id": "7a43b81c",
   "metadata": {},
   "source": [
    "Model Selection:\n",
    "- Start with basic models (e.g., Logistic Regression) to establish a performance baseline.\n",
    "- Experiment with more complex models such as Decision Trees, Random Forests, Gradient Boosting Machines, and Neural Networks.\n",
    "\n",
    "Model Tuning:\n",
    "- Perform hyperparameter tuning using Grid Search or Random Search with cross-validation to optimize model performance.\n",
    "- Address overfitting through techniques such as cross-validation, regularization, or pruning.\n",
    "\n",
    "Model Evaluation:\n",
    "- Evaluate models using a comprehensive set of metrics: accuracy, precision, recall, F1-score, ROC-AUC, and confusion matrix.\n",
    "- Perform a detailed error analysis to understand the model’s strengths and weaknesses, particularly in predicting minority classes (e.g., those at high risk\n",
    "of attrition).\n",
    "\n",
    "Model Interpretation:\n",
    "- Use techniques like SHAP (SHapley Additive exPlanations) or LIME (Local Interpretable Model-agnostic Explanations) to interpret complex models and explain predictions to non-technical stakeholders."
   ]
  },
  {
   "cell_type": "code",
   "execution_count": null,
   "id": "19d309af",
   "metadata": {},
   "outputs": [],
   "source": [
    "# oof, até tenho pesadelos com isto"
   ]
  },
  {
   "cell_type": "code",
   "execution_count": null,
   "id": "e152a278",
   "metadata": {},
   "outputs": [],
   "source": [
    "# subset HR into train, test and validation (80, 10, 10?)"
   ]
  },
  {
   "cell_type": "markdown",
   "id": "f2b97ca1",
   "metadata": {},
   "source": [
    "# 5. Prescriptive Analytics and Recommendations"
   ]
  },
  {
   "cell_type": "markdown",
   "id": "c45e9024",
   "metadata": {},
   "source": [
    "- Insights Derivation: Based on the model’s predictions, derive actionable insights. For example, identify the top factors leading to attrition and propose\n",
    "specific interventions.\n",
    "- Scenario Analysis: Conduct what-if scenarios to simulate the impact of different interventions on attrition rates.\n",
    "- Strategic Recommendations: Provide a set of clear, evidence-based recommendations for HR and management. For example, suggest targeted retention strategies such as personalized development plans for at-risk employees, or changes in compensation structures."
   ]
  },
  {
   "cell_type": "code",
   "execution_count": null,
   "id": "0a99ae17",
   "metadata": {},
   "outputs": [],
   "source": [
    "# Maybe we don't need code here"
   ]
  },
  {
   "cell_type": "markdown",
   "id": "0f429a90",
   "metadata": {},
   "source": [
    "# 6. Model Deployment (Optional)"
   ]
  },
  {
   "cell_type": "markdown",
   "id": "e80df952",
   "metadata": {},
   "source": [
    "Deploy the best-performing model using Hugging Face Spaces or a similar platform."
   ]
  },
  {
   "cell_type": "markdown",
   "id": "5976efe0",
   "metadata": {},
   "source": [
    "# 7. Final Presentation and Reporting"
   ]
  },
  {
   "cell_type": "markdown",
   "id": "b1c49c90",
   "metadata": {},
   "source": [
    "Presentation Structure:\n",
    "- Introduction: Briefly introduce the business problem, objectives, and approach.\n",
    "- EDA and Feature Engineering: Summarize key findings from your data exploration and the rationale behind your feature engineering choices.\n",
    "- Modeling and Evaluation: Discuss the models you developed, their performance metrics, and why the final model was selected.\n",
    "- Recommendations: Present your strategic recommendations based on the model’s insights.\n",
    "\n",
    "Slide Deck:\n",
    "- Create a professional slide deck with a logical flow, clear visuals, and concise explanations.\n",
    "- Prepare backup slides with additional data and analysis for potential questions or deep"
   ]
  }
 ],
 "metadata": {
  "kernelspec": {
   "display_name": "Python 3",
   "language": "python",
   "name": "python3"
  },
  "language_info": {
   "codemirror_mode": {
    "name": "ipython",
    "version": 3
   },
   "file_extension": ".py",
   "mimetype": "text/x-python",
   "name": "python",
   "nbconvert_exporter": "python",
   "pygments_lexer": "ipython3",
   "version": "3.13.7"
  }
 },
 "nbformat": 4,
 "nbformat_minor": 5
}
